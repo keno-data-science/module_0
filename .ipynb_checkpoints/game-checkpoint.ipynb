{
 "cells": [
  {
   "cell_type": "code",
   "execution_count": 78,
   "metadata": {},
   "outputs": [],
   "source": [
    "# Функция которая угадывает число, средставами \n",
    "def game_core(number):\n",
    "    import numpy as np                   \n",
    "    count = 0                            # ввод переменной для счётчика\n",
    "    i = 1                                # ввод переменной для начального значения диапозона предполагаемого числа\n",
    "    j = 101                              # ввод переменной для конечного значения диапозона предполагаемого числа\n",
    "    number = np.random.randint(1,101)    # случайно загаданое число\n",
    "    while True:                        # цикл\n",
    "        predict = np.random.randint(i,j)   # выбор случайного числа для начала сравнения\n",
    "        count += 1                     # плюсуем попытку\n",
    "        if number == predict:       \n",
    "            return(count)              # возврат значения счётчика \n",
    "        elif i == predict or j == predict:\n",
    "            i = predict+1\n",
    "        elif number > predict: \n",
    "            i = predict+1    \n",
    "        elif number < predict: \n",
    "            j = predict\n",
    "            \n",
    "# Функция которая считает среднее количество угадываний числа для выбраннного алгоритма               \n",
    "def score_game(game_core):\n",
    "    import numpy as np\n",
    "    count_ls = [] # Пустой список для хранения количества попыток\n",
    "    np.random.seed(1)  # фиксируем RANDOM SEED, чтобы ваш эксперимент был воспроизводим!\n",
    "    random_array = np.random.randint(1,101, size=(1000))\n",
    "    for number in random_array:\n",
    "        count_ls.append(game_core(number))\n",
    "    score = int(np.mean(count_ls))\n",
    "    print(f\"Ваш алгоритм угадывает число в среднем за {score} попыток\")\n",
    "    return(score)"
   ]
  },
  {
   "cell_type": "code",
   "execution_count": 79,
   "metadata": {},
   "outputs": [
    {
     "name": "stdout",
     "output_type": "stream",
     "text": [
      "Ваш алгоритм угадывает число в среднем за 7 попыток\n"
     ]
    },
    {
     "data": {
      "text/plain": [
       "7"
      ]
     },
     "execution_count": 79,
     "metadata": {},
     "output_type": "execute_result"
    }
   ],
   "source": [
    "score_game(game_core)"
   ]
  },
  {
   "cell_type": "markdown",
   "metadata": {},
   "source": [
    "ВЕРСИЯ 2 QWEN"
   ]
  },
  {
   "cell_type": "code",
   "execution_count": 1,
   "metadata": {},
   "outputs": [
    {
     "name": "stdout",
     "output_type": "stream",
     "text": [
      "Алгоритм угадывает число в среднем за 5 попыток\n"
     ]
    }
   ],
   "source": [
    "import numpy as np\n",
    "\n",
    "# Функция, которая угадывает число с использованием бинарного поиска\n",
    "def game_core(number):\n",
    "    count = 0                            # Счетчик попыток\n",
    "    low = 1                              # Начало диапазона\n",
    "    high = 101                           # Конец диапазона (не включительно)\n",
    "\n",
    "    while True:\n",
    "        predict = (low + high) // 2      # Выбираем среднее значение в диапазоне\n",
    "        count += 1                       # Увеличиваем счетчик попыток\n",
    "\n",
    "        if predict == number:            # Если угадали число\n",
    "            return count\n",
    "        elif predict < number:           # Если предположение меньше загаданного числа\n",
    "            low = predict + 1\n",
    "        else:                            # Если предположение больше загаданного числа\n",
    "            high = predict\n",
    "\n",
    "# Функция, которая оценивает среднее количество попыток для угадывания числа\n",
    "def score_game(game_core):\n",
    "    np.random.seed(1)                    # Фиксируем RANDOM SEED для воспроизводимости эксперимента\n",
    "    random_array = np.random.randint(1, 101, size=1000)  # Генерируем массив из 1000 случайных чисел\n",
    "    count_ls = [game_core(number) for number in random_array]  # Считаем количество попыток для каждого числа\n",
    "    score = int(np.mean(count_ls))       # Вычисляем среднее количество попыток\n",
    "    print(f\"Алгоритм угадывает число в среднем за {score} попыток\")\n",
    "    return score\n",
    "\n",
    "# Запуск тестирования алгоритма\n",
    "if __name__ == \"__main__\":\n",
    "    score_game(game_core)"
   ]
  },
  {
   "cell_type": "code",
   "execution_count": null,
   "metadata": {},
   "outputs": [],
   "source": []
  }
 ],
 "metadata": {
  "kernelspec": {
   "display_name": "Python 3 (ipykernel)",
   "language": "python",
   "name": "python3"
  },
  "language_info": {
   "codemirror_mode": {
    "name": "ipython",
    "version": 3
   },
   "file_extension": ".py",
   "mimetype": "text/x-python",
   "name": "python",
   "nbconvert_exporter": "python",
   "pygments_lexer": "ipython3",
   "version": "3.11.8"
  }
 },
 "nbformat": 4,
 "nbformat_minor": 4
}
